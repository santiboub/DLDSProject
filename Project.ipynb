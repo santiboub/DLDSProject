{
  "cells": [
    {
      "attachments": {},
      "cell_type": "markdown",
      "metadata": {
        "colab_type": "text",
        "id": "view-in-github"
      },
      "source": [
        "<a href=\"https://colab.research.google.com/github/santiboub/DLDSProject/blob/main/Project.ipynb\" target=\"_parent\"><img src=\"https://colab.research.google.com/assets/colab-badge.svg\" alt=\"Open In Colab\"/></a>"
      ]
    },
    {
      "cell_type": "code",
      "execution_count": 38,
      "metadata": {
        "id": "5xsMYT-Nkak0"
      },
      "outputs": [
        {
          "name": "stdout",
          "output_type": "stream",
          "text": [
            "everything should be fine!\n"
          ]
        }
      ],
      "source": [
        "print(\"everything should be fine!\")"
      ]
    },
    {
      "cell_type": "code",
      "execution_count": 40,
      "metadata": {},
      "outputs": [
        {
          "name": "stdout",
          "output_type": "stream",
          "text": [
            "Can you run this?\n"
          ]
        }
      ],
      "source": [
        "print(\"Can you run this?\")"
      ]
    },
    {
      "cell_type": "code",
      "execution_count": null,
      "metadata": {},
      "outputs": [],
      "source": [
        "import torch\n",
        "import torch.nn as nn\n",
        "import torchvision\n",
        "import torchvision.transforms as transforms\n",
        "import numpy as np\n",
        "import pandas as pd \n",
        "import matplotlib.pyplot as plt\n",
        "import random\n",
        "\n",
        "\n",
        "torch.manual_seed(30)\n",
        "random.seed(30)\n",
        "np.random.seed(30)"
      ]
    },
    {
      "attachments": {},
      "cell_type": "markdown",
      "metadata": {},
      "source": [
        "# Data loading"
      ]
    },
    {
      "cell_type": "code",
      "execution_count": null,
      "metadata": {},
      "outputs": [],
      "source": [
        "batch_size = 32\n",
        "validation_size = 5000\n",
        "\n",
        "trainset = torchvision.datasets.CIFAR10(root='./data', train=True,\n",
        "                                        transform=transforms.ToTensor(),\n",
        "                                        download=True)\n",
        "\n",
        "testset = torchvision.datasets.CIFAR10(root='./data', train=False,\n",
        "                                        transform=transforms.ToTensor(),\n",
        "                                        download=True)\n",
        "\n",
        "trainset, valset = torch.utils.data.random_split(trainset, [len(trainset) - validation_size, validation_size])\n",
        "\n",
        "trainloader = torch.utils.data.DataLoader(trainset, batch_size=batch_size,\n",
        "                                          shuffle=True, num_workers=2)\n",
        "\n",
        "valLoader = torch.utils.data.DataLoader(valset, batch_size=batch_size,\n",
        "                                         shuffle=False, num_workers=2)\n",
        "\n",
        "testloader = torch.utils.data.DataLoader(testset, batch_size=batch_size,\n",
        "                                         shuffle=False, num_workers=2)\n",
        "\n",
        "classes = ('plane', 'car', 'bird', 'cat',\n",
        "           'deer', 'dog', 'frog', 'horse', 'ship', 'truck')"
      ]
    },
    {
      "cell_type": "code",
      "execution_count": null,
      "metadata": {},
      "outputs": [],
      "source": [
        "def imshow(img):\n",
        "    npimg = img.numpy()\n",
        "    plt.imshow(np.transpose(npimg, (1, 2, 0)))\n",
        "    plt.show()\n",
        "\n",
        "\n",
        "# get some random training images\n",
        "dataiter = iter(trainloader)\n",
        "images, labels = next(dataiter)\n",
        "\n",
        "# show images\n",
        "imshow(torchvision.utils.make_grid(images))\n",
        "# print labels\n",
        "# print(' '.join(f'{classes[labels[j]]:5s} ' for j in range(batch_size)))\n",
        "print(' '.join(f'{classes[labels[j]]:5s} {chr(10) if (j % 8)==7 else \"\"}' for j in range(batch_size)))"
      ]
    },
    {
      "attachments": {},
      "cell_type": "markdown",
      "metadata": {},
      "source": [
        "# Basic project network"
      ]
    },
    {
      "cell_type": "code",
      "execution_count": null,
      "metadata": {},
      "outputs": [],
      "source": [
        "device = torch.device('cuda:0' if torch.cuda.is_available() else 'cpu')"
      ]
    },
    {
      "attachments": {},
      "cell_type": "markdown",
      "metadata": {},
      "source": [
        "### Define the Model"
      ]
    },
    {
      "cell_type": "code",
      "execution_count": null,
      "metadata": {},
      "outputs": [],
      "source": [
        "class BaselineModel(nn.Module):\n",
        "\n",
        "    def __init__(self):\n",
        "        super(BaselineModel, self).__init__()\n",
        "\n",
        "        self.conv1 = nn.Conv2d(in_channels=3, out_channels=32, kernel_size=3, padding='same')\n",
        "        # nn.init.xavier_uniform(self.conv1.weight)\n",
        "        nn.init.kaiming_uniform_(self.conv1.weight)\n",
        "\n",
        "        self.conv2 = nn.Conv2d(in_channels=3, out_channels=32, kernel_size=3, padding='same')\n",
        "        nn.init.kaiming_uniform_(self.conv2.weight)\n",
        "\n",
        "        self.conv3 = nn.Conv2d(in_channels=32, out_channels=64, kernel_size=3, padding='same')\n",
        "        nn.init.kaiming_uniform_(self.conv3.weight)\n",
        "        self.conv4 = nn.Conv2d(in_channels=32, out_channels=64, kernel_size=3, padding='same')\n",
        "        nn.init.kaiming_uniform_(self.conv4.weight)\n",
        "\n",
        "        self.conv5 = nn.Conv2d(in_channels=64, out_channels=128, kernel_size=3, padding='same')\n",
        "        nn.init.kaiming_uniform_(self.conv5.weight)\n",
        "        self.conv6 = nn.Conv2d(in_channels=64, out_channels=128, kernel_size=3, padding='same')\n",
        "        nn.init.kaiming_uniform_(self.conv6.weight)\n",
        "\n",
        "        self.relu = nn.ReLU()\n",
        "\n",
        "        self.pool1 = nn.MaxPool2d(2, 2)\n",
        "        self.pool2 = nn.MaxPool2d(2, 2)\n",
        "        self.pool3 = nn.MaxPool2d(2, 2)\n",
        "\n",
        "        self.fc1 = nn.Linear(64 * 8 * 8, 128)\n",
        "        nn.init.kaiming_uniform_(self.fc1.weight)\n",
        "        self.fc2 = nn.Linear(128, 10)\n",
        "\n",
        "    def forward(self, x):\n",
        "        x = self.conv1(x)\n",
        "        x = self.relu(x)\n",
        "        x = self.conv2(x)\n",
        "        x = self.relu(x)\n",
        "        x = self.pool1(x)\n",
        "\n",
        "        x = self.conv3(x)\n",
        "        x = self.relu(x)\n",
        "        x = self.conv4(x)\n",
        "        x = self.relu(x)\n",
        "        x = self.pool2(x)\n",
        "\n",
        "        x = self.conv5(x)\n",
        "        x = self.relu(x)\n",
        "        x = self.conv6(x)\n",
        "        x = self.relu(x)\n",
        "        x = self.pool3(x)\n",
        "\n",
        "        x = x.view(-1, 64 * 8 * 8)\n",
        "\n",
        "        x = self.fc1(x)\n",
        "        x = self.relu(x)\n",
        "\n",
        "        x = self.fc2(x)\n",
        "        return x"
      ]
    },
    {
      "attachments": {},
      "cell_type": "markdown",
      "metadata": {},
      "source": [
        "### Train the Model"
      ]
    },
    {
      "cell_type": "code",
      "execution_count": null,
      "metadata": {},
      "outputs": [],
      "source": [
        "baseline_model = BaselineModel()\n",
        "\n",
        "loss_function = nn.CrossEntropyLoss()\n",
        "optimizer = torch.optim.SGD(baseline_model.parameters(), lr=.001, momentum=.9)\n",
        "\n",
        "num_epochs = 10\n",
        "\n",
        "history = {\n",
        "\t\"train_loss\": [],\n",
        "\t\"train_acc\": [],\n",
        "\t\"val_loss\": [],\n",
        "\t\"val_acc\": []\n",
        "}\n",
        "\n",
        "print(\"Training the network...\")\n",
        "for epoch in range(num_epochs):              \n",
        "    baseline_model.train()\n",
        "\n",
        "    train_loss_sum = 0\n",
        "    train_acc_sum = 0\n",
        "\n",
        "    val_loss_sum = 0\n",
        "    val_acc_sum = 0\n",
        "\n",
        "    for index, (images, labels) in enumerate(trainloader):\n",
        "        images = images.to(device)\n",
        "        labels = labels.to(device)\n",
        "\n",
        "        optimizer.zero_grad()\n",
        "\n",
        "        prediction = baseline_model(images)\n",
        "        current_loss = loss_function(prediction, labels)\n",
        "        current_loss.backward()\n",
        "        optimizer.step()\n",
        "\n",
        "        train_loss_sum += current_loss.detach().item()\n",
        "    \n",
        "    with nn.no_grad():\n",
        "        baseline_model.eval()\n",
        "\n",
        "        for index, (images, labels) in enumerate(valLoader):\n",
        "            images = images.to(device)\n",
        "            labels = labels.to(device)\n",
        "\n",
        "            prediction = baseline_model(images)\n",
        "            current_loss = loss_function(prediction, labels)\n",
        "\n",
        "print('Saing the' )\n",
        "\n",
        "    "
      ]
    },
    {
      "cell_type": "code",
      "execution_count": null,
      "metadata": {},
      "outputs": [],
      "source": [
        "def summarize_diagnostics(history):\n",
        "    fig, axs = plt.subplots(2, 1)\n",
        "\n",
        "    axs[0].title('Cross Entropy Loss')\n",
        "    axs[0].plot(history.history['loss'], color='blue', label='train')\n",
        "    axs[0].plot(history.history['val_loss'], color='orange', label='test')\n",
        "\n",
        "    axs[1].title('Classification Accuracy')\n",
        "    axs[1].plot(history.history['accuracy'], color='blue', label='train')\n",
        "    axs[1].plot(history.history['val_accuracy'], color='orange', label='test')\n",
        "\n",
        "    plt.show()\n"
      ]
    }
  ],
  "metadata": {
    "colab": {
      "authorship_tag": "ABX9TyOM/m7QwrYT3t9asId4FNp4",
      "include_colab_link": true,
      "provenance": []
    },
    "kernelspec": {
      "display_name": "Python 3",
      "name": "python3"
    },
    "language_info": {
      "codemirror_mode": {
        "name": "ipython",
        "version": 3
      },
      "file_extension": ".py",
      "mimetype": "text/x-python",
      "name": "python",
      "nbconvert_exporter": "python",
      "pygments_lexer": "ipython3",
      "version": "3.8.10"
    }
  },
  "nbformat": 4,
  "nbformat_minor": 0
}
